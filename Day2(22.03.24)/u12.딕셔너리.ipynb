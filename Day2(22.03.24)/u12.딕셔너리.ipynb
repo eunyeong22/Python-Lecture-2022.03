{
 "cells": [
  {
   "cell_type": "markdown",
   "metadata": {},
   "source": [
    "## Unit 12. 딕셔너리(Dictionary)"
   ]
  },
  {
   "cell_type": "code",
   "execution_count": 1,
   "metadata": {},
   "outputs": [
    {
     "data": {
      "text/plain": [
       "{'health': 490, 'mana': 334, 'melee': 550, 'armor': 18.72}"
      ]
     },
     "execution_count": 1,
     "metadata": {},
     "output_type": "execute_result"
    }
   ],
   "source": [
    "lux1=[490,334,550,18.72]\n",
    "lux2={'health':490, 'mana':334, 'melee':550, 'armor':18.72}       #lux2처럼 놓으며 1보다 보기 편함\n",
    "lux2"
   ]
  },
  {
   "cell_type": "markdown",
   "metadata": {},
   "source": [
    "### 12.1 딕서녀리 만들기"
   ]
  },
  {
   "cell_type": "code",
   "execution_count": 2,
   "metadata": {},
   "outputs": [
    {
     "data": {
      "text/plain": [
       "{'health': 490, 'mana': 334, 'melee': 550, 'armor': 18.72}"
      ]
     },
     "execution_count": 2,
     "metadata": {},
     "output_type": "execute_result"
    }
   ],
   "source": [
    "# 딕셔너리 중괄호로 만듬\n",
    "# key값의 순서가 보장되지 않음\n",
    "lux={'health':490, 'mana':334, 'melee':550, 'armor':18.72}    # 딕셔너리 추천방법★ \n",
    "lux"
   ]
  },
  {
   "cell_type": "code",
   "execution_count": 4,
   "metadata": {},
   "outputs": [
    {
     "data": {
      "text/plain": [
       "{'health': 490, 'mana': 430, 'melee': 550, 'armor': 18.72}"
      ]
     },
     "execution_count": 4,
     "metadata": {},
     "output_type": "execute_result"
    }
   ],
   "source": [
    "# 키 이름이 중복이되면 가장 뒤에 있는 값 사용함\n",
    "lux={'health':490, 'mana':334, 'melee':550, 'armor':18.72, 'mana':430} \n",
    "lux"
   ]
  },
  {
   "cell_type": "code",
   "execution_count": 5,
   "metadata": {},
   "outputs": [
    {
     "data": {
      "text/plain": [
       "OrderedDict([('health', 490), ('mana', 334), ('armor', 18.72)])"
      ]
     },
     "execution_count": 5,
     "metadata": {},
     "output_type": "execute_result"
    }
   ],
   "source": [
    "# key값 순서 보장하려면 orderdict 사용 필요 (key값의 입력한 순서대로)\n",
    "from collections import OrderedDict\n",
    "d=OrderedDict()\n",
    "d['health']=490\n",
    "d['mana']=334\n",
    "d['armor']=18.72\n",
    "d"
   ]
  },
  {
   "cell_type": "markdown",
   "metadata": {},
   "source": [
    "* 빈 딕셔너리 생성"
   ]
  },
  {
   "cell_type": "code",
   "execution_count": 6,
   "metadata": {},
   "outputs": [
    {
     "data": {
      "text/plain": [
       "(dict, dict)"
      ]
     },
     "execution_count": 6,
     "metadata": {},
     "output_type": "execute_result"
    }
   ],
   "source": [
    "# 둘다 딕셔너리 임, 보통 첫번째꺼(중괄호만 지정) 사용함\n",
    "a={}\n",
    "b=dict()\n",
    "type(a), type(b)"
   ]
  },
  {
   "cell_type": "code",
   "execution_count": 8,
   "metadata": {},
   "outputs": [
    {
     "data": {
      "text/plain": [
       "set"
      ]
     },
     "execution_count": 8,
     "metadata": {},
     "output_type": "execute_result"
    }
   ],
   "source": [
    "# 1,2,3을 세트로 만들면, 아래에서 c는 세트값이 나옴\n",
    "c=set([1,2,3])\n",
    "type(c)"
   ]
  },
  {
   "cell_type": "code",
   "execution_count": 9,
   "metadata": {},
   "outputs": [
    {
     "data": {
      "text/plain": [
       "{1, 2, 3}"
      ]
     },
     "execution_count": 9,
     "metadata": {},
     "output_type": "execute_result"
    }
   ],
   "source": [
    "c"
   ]
  },
  {
   "cell_type": "markdown",
   "metadata": {},
   "source": [
    "* dict()로 딕셔너리 생성"
   ]
  },
  {
   "cell_type": "code",
   "execution_count": 10,
   "metadata": {},
   "outputs": [
    {
     "data": {
      "text/plain": [
       "{'health': 490, 'mana': 334, 'melee': 550, 'armor': 18.72}"
      ]
     },
     "execution_count": 10,
     "metadata": {},
     "output_type": "execute_result"
    }
   ],
   "source": [
    "# \"키=값\" 형식으로도 가능, 그래서 편리함\n",
    "lux1=dict(health=490, mana=334, melee=550, armor=18.72) \n",
    "lux1"
   ]
  },
  {
   "cell_type": "code",
   "execution_count": 12,
   "metadata": {},
   "outputs": [
    {
     "data": {
      "text/plain": [
       "[('health', 490), ('mana', 334), ('melee', 550), ('armor', 18.72)]"
      ]
     },
     "execution_count": 12,
     "metadata": {},
     "output_type": "execute_result"
    }
   ],
   "source": [
    "keys=['health', 'mana', 'melee', 'armor']\n",
    "values=[490,334,550,18.72]\n",
    "list(zip(keys, values))"
   ]
  },
  {
   "cell_type": "code",
   "execution_count": 13,
   "metadata": {},
   "outputs": [
    {
     "data": {
      "text/plain": [
       "{'health': 490, 'mana': 334, 'melee': 550, 'armor': 18.72}"
      ]
     },
     "execution_count": 13,
     "metadata": {},
     "output_type": "execute_result"
    }
   ],
   "source": [
    "lux2=dict(zip(keys, values))\n",
    "lux2"
   ]
  },
  {
   "cell_type": "code",
   "execution_count": 14,
   "metadata": {},
   "outputs": [
    {
     "data": {
      "text/plain": [
       "{'health': 490, 'mana': 334, 'melee': 550, 'armor': 18.72}"
      ]
     },
     "execution_count": 14,
     "metadata": {},
     "output_type": "execute_result"
    }
   ],
   "source": [
    "lux3=dict([('health', 490), ('mana', 334), ('melee', 550), ('armor', 18.72)])\n",
    "lux3"
   ]
  },
  {
   "cell_type": "code",
   "execution_count": 15,
   "metadata": {},
   "outputs": [
    {
     "data": {
      "text/plain": [
       "{'health': 490, 'mana': 430, 'melee': 550, 'armor': 18.72}"
      ]
     },
     "execution_count": 15,
     "metadata": {},
     "output_type": "execute_result"
    }
   ],
   "source": [
    "lux4=dict({'health':490, 'mana':334, 'melee':550, 'armor':18.72, 'mana':430})\n",
    "lux4"
   ]
  },
  {
   "cell_type": "markdown",
   "metadata": {},
   "source": [
    "★ 딕셔너리 추천방법 (2가지)"
   ]
  },
  {
   "cell_type": "code",
   "execution_count": 17,
   "metadata": {},
   "outputs": [],
   "source": [
    "lux={'health':490, 'mana':334, 'melee':550, 'armor':18.72} \n",
    "lux2=dict(zip(keys, values))"
   ]
  },
  {
   "cell_type": "markdown",
   "metadata": {},
   "source": [
    "### 12.2 딕셔너리 키에 접근하고 값 할당하기"
   ]
  },
  {
   "cell_type": "code",
   "execution_count": 18,
   "metadata": {},
   "outputs": [
    {
     "data": {
      "text/plain": [
       "334"
      ]
     },
     "execution_count": 18,
     "metadata": {},
     "output_type": "execute_result"
    }
   ],
   "source": [
    "lux['mana']"
   ]
  },
  {
   "cell_type": "code",
   "execution_count": 19,
   "metadata": {},
   "outputs": [
    {
     "data": {
      "text/plain": [
       "{'health': 490, 'mana': 334, 'melee': 550, 'armor': 21.34}"
      ]
     },
     "execution_count": 19,
     "metadata": {},
     "output_type": "execute_result"
    }
   ],
   "source": [
    "# 기존값 변경 가능\n",
    "lux['armor']=21.34\n",
    "lux"
   ]
  },
  {
   "cell_type": "code",
   "execution_count": 20,
   "metadata": {},
   "outputs": [
    {
     "data": {
      "text/plain": [
       "{'health': 490, 'mana': 334, 'melee': 550, 'armor': 21.34, 'new': 'kim'}"
      ]
     },
     "execution_count": 20,
     "metadata": {},
     "output_type": "execute_result"
    }
   ],
   "source": [
    "# 기존값에 추가 가능\n",
    "lux['new']='kim'\n",
    "lux"
   ]
  },
  {
   "cell_type": "code",
   "execution_count": 21,
   "metadata": {},
   "outputs": [
    {
     "ename": "KeyError",
     "evalue": "'origin'",
     "output_type": "error",
     "traceback": [
      "\u001b[1;31m---------------------------------------------------------------------------\u001b[0m",
      "\u001b[1;31mKeyError\u001b[0m                                  Traceback (most recent call last)",
      "\u001b[1;32m~\\AppData\\Local\\Temp/ipykernel_5476/1966936604.py\u001b[0m in \u001b[0;36m<module>\u001b[1;34m\u001b[0m\n\u001b[0;32m      1\u001b[0m \u001b[1;31m# 만약 지정해주지 않은 키값은 당연히 에러\u001b[0m\u001b[1;33m\u001b[0m\u001b[1;33m\u001b[0m\u001b[0m\n\u001b[1;32m----> 2\u001b[1;33m \u001b[0mlux\u001b[0m\u001b[1;33m[\u001b[0m\u001b[1;34m'origin'\u001b[0m\u001b[1;33m]\u001b[0m\u001b[1;33m\u001b[0m\u001b[1;33m\u001b[0m\u001b[0m\n\u001b[0m\u001b[0;32m      3\u001b[0m \u001b[0mlux\u001b[0m\u001b[1;33m\u001b[0m\u001b[1;33m\u001b[0m\u001b[0m\n",
      "\u001b[1;31mKeyError\u001b[0m: 'origin'"
     ]
    }
   ],
   "source": [
    "# 만약 지정해주지 않은 키값은 당연히 에러\n",
    "lux['origin']\n",
    "lux"
   ]
  },
  {
   "cell_type": "markdown",
   "metadata": {},
   "source": [
    "* 키가 있는지 확인 (in 연산자)"
   ]
  },
  {
   "cell_type": "code",
   "execution_count": 22,
   "metadata": {},
   "outputs": [
    {
     "data": {
      "text/plain": [
       "True"
      ]
     },
     "execution_count": 22,
     "metadata": {},
     "output_type": "execute_result"
    }
   ],
   "source": [
    "'health' in lux"
   ]
  },
  {
   "cell_type": "markdown",
   "metadata": {},
   "source": [
    "* key 갯수"
   ]
  },
  {
   "cell_type": "code",
   "execution_count": 23,
   "metadata": {},
   "outputs": [
    {
     "data": {
      "text/plain": [
       "5"
      ]
     },
     "execution_count": 23,
     "metadata": {},
     "output_type": "execute_result"
    }
   ],
   "source": [
    "len(lux)"
   ]
  },
  {
   "cell_type": "code",
   "execution_count": 24,
   "metadata": {},
   "outputs": [
    {
     "data": {
      "text/plain": [
       "{'health': 490, 'mana': 334, 'melee': 550, 'armor': 21.34, 'new': 'kim'}"
      ]
     },
     "execution_count": 24,
     "metadata": {},
     "output_type": "execute_result"
    }
   ],
   "source": [
    "lux"
   ]
  },
  {
   "cell_type": "code",
   "execution_count": null,
   "metadata": {},
   "outputs": [],
   "source": []
  }
 ],
 "metadata": {
  "interpreter": {
   "hash": "6d46af94c2bbce495f1e668725902fa517c90b1782bcfe2fce0dd9868df553d3"
  },
  "kernelspec": {
   "display_name": "Python 3.9.7 ('base')",
   "language": "python",
   "name": "python3"
  },
  "language_info": {
   "codemirror_mode": {
    "name": "ipython",
    "version": 3
   },
   "file_extension": ".py",
   "mimetype": "text/x-python",
   "name": "python",
   "nbconvert_exporter": "python",
   "pygments_lexer": "ipython3",
   "version": "3.9.7"
  },
  "orig_nbformat": 4
 },
 "nbformat": 4,
 "nbformat_minor": 2
}
