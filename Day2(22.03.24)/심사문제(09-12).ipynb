{
 "cells": [
  {
   "cell_type": "markdown",
   "metadata": {},
   "source": [
    "### 심사문제 9.4"
   ]
  },
  {
   "cell_type": "markdown",
   "metadata": {},
   "source": [
    "다음 소스 코드를 완성하여 실행 결과대로 문자열이 출력되게 만드세요.\n",
    "________________\n",
    "________________\n",
    "________________\n",
    "________________\n",
    "\n",
    "print(s)\n",
    "\n",
    "결과\n",
    "'Python' is a \"programming language\"\n",
    "that lets you work quickly\n",
    "and\n",
    "integrate systems more effectively."
   ]
  },
  {
   "cell_type": "code",
   "execution_count": 3,
   "metadata": {},
   "outputs": [
    {
     "name": "stdout",
     "output_type": "stream",
     "text": [
      " 'Python' is a \"programming language\"\n",
      "that lets you work quickly\n",
      "and\n",
      "integrate systems more effectively.\n"
     ]
    }
   ],
   "source": [
    "s=''' 'Python' is a \"programming language\"\n",
    "that lets you work quickly\n",
    "and\n",
    "integrate systems more effectively.'''\n",
    "print(s)"
   ]
  },
  {
   "cell_type": "markdown",
   "metadata": {},
   "source": [
    "### 심사문제 10.5"
   ]
  },
  {
   "cell_type": "markdown",
   "metadata": {},
   "source": [
    "표준 입력으로 정수가 입력됩니다. \n",
    "range의 시작하는 숫자는 -10, 끝나는 숫자는 10이며 입력된 정수만큼 증가하는 숫자가 들어가도록 튜플을 만들고, \n",
    "해당 튜플을 출력하는 프로그램을 만드세요(input에서 안내 문자열은 출력하지 않아야 합니다).\n",
    "\n",
    "________________\n",
    "________________\n",
    "________________\n",
    "\n",
    "\n",
    "입력 2\n",
    "결과 (-10, -8, -6, -4, -2, 0, 2, 4, 6, 8)\n",
    "\n",
    "입력 3\n",
    "결과 (-10, -7, -4, -1, 2, 5, 8)"
   ]
  },
  {
   "cell_type": "code",
   "execution_count": 12,
   "metadata": {},
   "outputs": [
    {
     "name": "stdout",
     "output_type": "stream",
     "text": [
      "(-10, -8, -6, -4, -2, 0, 2, 4, 6, 8)\n"
     ]
    }
   ],
   "source": [
    "a=tuple(range(-10,10,2))\n",
    "print(a)"
   ]
  },
  {
   "cell_type": "code",
   "execution_count": 13,
   "metadata": {},
   "outputs": [
    {
     "name": "stdout",
     "output_type": "stream",
     "text": [
      "(-10, -7, -4, -1, 2, 5, 8)\n"
     ]
    }
   ],
   "source": [
    "a=tuple(range(-10,10,3))\n",
    "print(a)"
   ]
  },
  {
   "cell_type": "markdown",
   "metadata": {},
   "source": [
    "### 11.8 심사문제"
   ]
  },
  {
   "cell_type": "markdown",
   "metadata": {},
   "source": [
    "표준 입력으로 숫자 또는 문자열 여러 개가 입력되어 리스트 x에 저장됩니다\n",
    "(입력되는 숫자 또는 문자열의 개수는 정해져 있지 않음). \n",
    "다음 소스 코드를 완성하여 리스트 x의 마지막 요소 5개를 삭제한 뒤 튜플로 출력되게 만드세요.\n",
    "\n",
    "x = input().split()\n",
    "________________\n",
    "________________\n",
    "\n",
    "입력 1 2 3 4 5 6 7 8 9 10\n",
    "결과 ('1', '2', '3', '4', '5')\n",
    "\n",
    "입력 oven bat pony total leak wreck curl crop space navy loss knee\n",
    "결과 ('oven', 'bat', 'pony', 'total', 'leak', 'wreck', 'curl')"
   ]
  },
  {
   "cell_type": "code",
   "execution_count": 68,
   "metadata": {},
   "outputs": [
    {
     "data": {
      "text/plain": [
       "['1', '2', '3', '4', '5']"
      ]
     },
     "execution_count": 68,
     "metadata": {},
     "output_type": "execute_result"
    }
   ],
   "source": [
    "x=input().split()\n",
    "del x[-5:]\n",
    "x"
   ]
  },
  {
   "cell_type": "code",
   "execution_count": 69,
   "metadata": {},
   "outputs": [
    {
     "data": {
      "text/plain": [
       "['oven', 'bat', 'pony', 'total', 'leak', 'wreck', 'curl']"
      ]
     },
     "execution_count": 69,
     "metadata": {},
     "output_type": "execute_result"
    }
   ],
   "source": [
    "y=input().split()\n",
    "del y[-5:]\n",
    "y"
   ]
  },
  {
   "cell_type": "markdown",
   "metadata": {},
   "source": [
    "### 11.9 심사문제"
   ]
  },
  {
   "cell_type": "markdown",
   "metadata": {},
   "source": [
    "표준 입력으로 문자열 두 개가 각 줄에 입력됩니다(문자열의 길이는 정해져 있지 않음). \n",
    "첫 번째 문자열에서 인덱스가 홀수인 문자와 두 번째 문자열에서 인덱스가 짝수인 문자를 연결하여 출력하는 프로그램을 만드세요(input에서 안내 문자열은 출력하지 않아야 합니다). \n",
    "연결 순서는 첫 번째 문자열, 두 번째 문자열 순입니다. 그리고 0은 짝수로 처리합니다.\n",
    "\n",
    "________________\n",
    "________________\n",
    "________________\n",
    "\n",
    "입력\n",
    "python\n",
    "python\n",
    "결과\n",
    "yhnpto\n",
    "\n",
    "입력\n",
    "apple\n",
    "strawberry\n",
    "결과\n",
    "plsrwer"
   ]
  },
  {
   "cell_type": "code",
   "execution_count": 54,
   "metadata": {},
   "outputs": [
    {
     "data": {
      "text/plain": [
       "'yhnpto'"
      ]
     },
     "execution_count": 54,
     "metadata": {},
     "output_type": "execute_result"
    }
   ],
   "source": [
    "a='python'\n",
    "b='phthon'\n",
    "a[1:6:2]+b[0:-1:2]"
   ]
  },
  {
   "cell_type": "code",
   "execution_count": 55,
   "metadata": {},
   "outputs": [
    {
     "data": {
      "text/plain": [
       "'plsrwer'"
      ]
     },
     "execution_count": 55,
     "metadata": {},
     "output_type": "execute_result"
    }
   ],
   "source": [
    "a='apple'\n",
    "b='strawberry'\n",
    "a[1:6:2]+b[0:-1:2]"
   ]
  },
  {
   "cell_type": "markdown",
   "metadata": {},
   "source": [
    "### 12.5 심사문제"
   ]
  },
  {
   "cell_type": "markdown",
   "metadata": {},
   "source": [
    "표준 입력으로 문자열 여러 개와 숫자(실수) 여러 개가 두 줄로 입력됩니다. \n",
    "입력된 첫 번째 줄은 키, 두 번째 줄은 값으로 하여 딕셔너리를 생성한 뒤 딕셔너리를 출력하는 프로그램을 만드세요. \n",
    "input().split()의 결과를 변수 한 개에 저장하면 리스트로 저장됩니다.\n",
    "\n",
    "________________\n",
    "________________\n",
    "________________\n",
    "________________\n",
    "\n",
    "입력\n",
    "health health_regen mana mana_regen\n",
    "575.6 1.7 338.8 1.63\n",
    "결과\n",
    "{'health': 575.6, 'health_regen': 1.7, 'mana': 338.8, 'mana_regen': 1.63}\n",
    "\n",
    "입력\n",
    "health mana melee attack_speed magic_resistance\n",
    "573.6 308.8 600 0.625 35.7\n",
    "결과\n",
    "{'health': 573.6, 'mana': 308.8, 'melee': 600.0, 'attack_speed': 0.625, 'magic_resistance': 35.7}"
   ]
  },
  {
   "cell_type": "code",
   "execution_count": 43,
   "metadata": {},
   "outputs": [
    {
     "data": {
      "text/plain": [
       "{'health': 575.6, 'health-regen': 1.7, 'mana': 338.8, 'mana_regen': 1.63}"
      ]
     },
     "execution_count": 43,
     "metadata": {},
     "output_type": "execute_result"
    }
   ],
   "source": [
    "keys=['health', 'health-regen', 'mana', 'mana_regen']\n",
    "values=[575.6, 1.7, 338.8, 1.63]\n",
    "dict(list(zip(keys,values)))"
   ]
  },
  {
   "cell_type": "code",
   "execution_count": 46,
   "metadata": {},
   "outputs": [
    {
     "data": {
      "text/plain": [
       "{'health': 573.6,\n",
       " 'mana': 308.8,\n",
       " 'melee': 600,\n",
       " 'attack_speed': 0.625,\n",
       " 'magic_resistance': 35.7}"
      ]
     },
     "execution_count": 46,
     "metadata": {},
     "output_type": "execute_result"
    }
   ],
   "source": [
    "keys=['health', 'mana', 'melee', 'attack_speed', 'magic_resistance']\n",
    "values=[573.6, 308.8, 600, 0.625, 35.7]\n",
    "dict(list(zip(keys,values)))"
   ]
  }
 ],
 "metadata": {
  "interpreter": {
   "hash": "6d46af94c2bbce495f1e668725902fa517c90b1782bcfe2fce0dd9868df553d3"
  },
  "kernelspec": {
   "display_name": "Python 3.9.7 ('base')",
   "language": "python",
   "name": "python3"
  },
  "language_info": {
   "codemirror_mode": {
    "name": "ipython",
    "version": 3
   },
   "file_extension": ".py",
   "mimetype": "text/x-python",
   "name": "python",
   "nbconvert_exporter": "python",
   "pygments_lexer": "ipython3",
   "version": "3.9.7"
  },
  "orig_nbformat": 4
 },
 "nbformat": 4,
 "nbformat_minor": 2
}
