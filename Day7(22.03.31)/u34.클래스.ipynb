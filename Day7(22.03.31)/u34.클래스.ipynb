{
 "cells": [
  {
   "cell_type": "markdown",
   "metadata": {},
   "source": [
    "# Unit 34. 클래스(Class)\n",
    "### 34.1 클래스와 메소드 만들기"
   ]
  },
  {
   "cell_type": "code",
   "execution_count": 3,
   "metadata": {},
   "outputs": [],
   "source": [
    "class Person:       # 클래스 이름은 대문자로 시작\n",
    "    def greeting(self):     #클래스의 메소드의 첫번째인자(괄호안)에는 무조건 self라고 적어주기\n",
    "        print('hello')"
   ]
  },
  {
   "cell_type": "code",
   "execution_count": 4,
   "metadata": {},
   "outputs": [],
   "source": [
    "# 클래스의 인스턴스(객체)를 만들어야 클래스를 사용할 수 있음\n",
    "james = Person()        #Person()를 생성자(constructor)함수라고 함\n",
    "maria = Person()"
   ]
  },
  {
   "cell_type": "code",
   "execution_count": 5,
   "metadata": {},
   "outputs": [
    {
     "name": "stdout",
     "output_type": "stream",
     "text": [
      "hello\n"
     ]
    }
   ],
   "source": [
    "james.greeting()        #여기 greeting에는 self 안적어도 됨"
   ]
  },
  {
   "cell_type": "code",
   "execution_count": 6,
   "metadata": {},
   "outputs": [
    {
     "name": "stdout",
     "output_type": "stream",
     "text": [
      "hello\n"
     ]
    }
   ],
   "source": [
    "maria.greeting()"
   ]
  },
  {
   "cell_type": "code",
   "execution_count": 8,
   "metadata": {},
   "outputs": [
    {
     "name": "stdout",
     "output_type": "stream",
     "text": [
      "hello\n"
     ]
    }
   ],
   "source": [
    "Person().greeting()"
   ]
  },
  {
   "cell_type": "markdown",
   "metadata": {},
   "source": [
    "* 인스턴스와 객체는 같은 것, 즉 붕어빵\n",
    "* 클래스와 객체는 다르다... 클래스는 붕어빵 기계"
   ]
  },
  {
   "cell_type": "markdown",
   "metadata": {},
   "source": [
    "* 특정 클래스의 인스턴스인지 확인하기"
   ]
  },
  {
   "cell_type": "code",
   "execution_count": 9,
   "metadata": {},
   "outputs": [
    {
     "data": {
      "text/plain": [
       "True"
      ]
     },
     "execution_count": 9,
     "metadata": {},
     "output_type": "execute_result"
    }
   ],
   "source": [
    "isinstance(james, Person)"
   ]
  },
  {
   "cell_type": "markdown",
   "metadata": {},
   "source": [
    "* 클래스 내에서 메소드 호출하기"
   ]
  },
  {
   "cell_type": "code",
   "execution_count": 20,
   "metadata": {},
   "outputs": [],
   "source": [
    "class Person:\n",
    "    def greeting(self):\n",
    "        print('hello') \n",
    "\n",
    "    def hello(self):       # 메소드 여러개 만들 수 있음\n",
    "        self.greeting()     # 클래스 내에서 속성이나 메소드를 참조할 때는 self.xxx사용"
   ]
  },
  {
   "cell_type": "code",
   "execution_count": 21,
   "metadata": {},
   "outputs": [
    {
     "name": "stdout",
     "output_type": "stream",
     "text": [
      "hello\n"
     ]
    }
   ],
   "source": [
    "james=Person()\n",
    "james.hello()      "
   ]
  },
  {
   "cell_type": "code",
   "execution_count": 1,
   "metadata": {},
   "outputs": [],
   "source": [
    "# 음수와 실수에 대한 대비가 없음\n",
    "def factorial(n):\n",
    "    pass"
   ]
  },
  {
   "cell_type": "code",
   "execution_count": 17,
   "metadata": {},
   "outputs": [],
   "source": [
    "def fact(n):\n",
    "    if n==0:\n",
    "        return 1\n",
    "    return n*fact(n-1)"
   ]
  },
  {
   "cell_type": "code",
   "execution_count": 2,
   "metadata": {},
   "outputs": [],
   "source": [
    "def factorial(n):\n",
    "    if not isinstance(n, int) or n<0:\n",
    "        return None       #n이 정수가 아니거나 음수이면\n",
    "    if n==0:\n",
    "        return 1\n",
    "    return n*factorial(n-1)"
   ]
  },
  {
   "cell_type": "code",
   "execution_count": 3,
   "metadata": {},
   "outputs": [
    {
     "data": {
      "text/plain": [
       "(None, None)"
      ]
     },
     "execution_count": 3,
     "metadata": {},
     "output_type": "execute_result"
    }
   ],
   "source": [
    "factorial(1.3), factorial(-4)"
   ]
  },
  {
   "cell_type": "code",
   "execution_count": 4,
   "metadata": {},
   "outputs": [
    {
     "data": {
      "text/plain": [
       "120"
      ]
     },
     "execution_count": 4,
     "metadata": {},
     "output_type": "execute_result"
    }
   ],
   "source": [
    "factorial(5)"
   ]
  },
  {
   "cell_type": "markdown",
   "metadata": {},
   "source": [
    "### 34.2 속성(Attribute)"
   ]
  },
  {
   "cell_type": "code",
   "execution_count": 6,
   "metadata": {},
   "outputs": [],
   "source": [
    "class Person:\n",
    "    def __init__(self):\n",
    "        self.hello = '안녕하세요'       #hello가 속성이 됨\n",
    "    def greeting(self):\n",
    "        print(self.hello)       #self.hello에서 self 나 자신"
   ]
  },
  {
   "cell_type": "code",
   "execution_count": 7,
   "metadata": {},
   "outputs": [
    {
     "name": "stdout",
     "output_type": "stream",
     "text": [
      "안녕하세요\n"
     ]
    }
   ],
   "source": [
    "maria = Person()\n",
    "maria.greeting()"
   ]
  },
  {
   "cell_type": "code",
   "execution_count": 8,
   "metadata": {},
   "outputs": [
    {
     "name": "stdout",
     "output_type": "stream",
     "text": [
      "How are you?\n"
     ]
    }
   ],
   "source": [
    "maria.hello = 'How are you?'        # 속성값을 위에서 아닌 여기서도 바꿀 수 있음 \n",
    "maria.greeting()"
   ]
  },
  {
   "cell_type": "code",
   "execution_count": 9,
   "metadata": {},
   "outputs": [
    {
     "name": "stdout",
     "output_type": "stream",
     "text": [
      "Good afternoon\n"
     ]
    }
   ],
   "source": [
    "james=Person()\n",
    "james.hello = 'Good afternoon'\n",
    "james.greeting()"
   ]
  },
  {
   "cell_type": "code",
   "execution_count": 15,
   "metadata": {},
   "outputs": [],
   "source": [
    "class Person:\n",
    "    def __init__(self, name, age, address):\n",
    "        self.hello = '안녕하세요?'\n",
    "        self.name = name\n",
    "        self.age = age\n",
    "        self.address = address\n",
    "    def greeting(self):\n",
    "        print(f' {self.hello} 저는 {self.name} 입니다. ')"
   ]
  },
  {
   "cell_type": "code",
   "execution_count": 16,
   "metadata": {},
   "outputs": [
    {
     "name": "stdout",
     "output_type": "stream",
     "text": [
      " 안녕하세요? 저는 마리아 입니다. \n"
     ]
    }
   ],
   "source": [
    "maria = Person('마리아', 23, '서울시 서초구 서초동')\n",
    "maria.greeting()"
   ]
  },
  {
   "cell_type": "code",
   "execution_count": 17,
   "metadata": {},
   "outputs": [
    {
     "name": "stdout",
     "output_type": "stream",
     "text": [
      " 반갑습니다. 저는 마리아 입니다. \n"
     ]
    }
   ],
   "source": [
    "maria.hello = '반갑습니다.'\n",
    "maria.greeting()"
   ]
  },
  {
   "cell_type": "code",
   "execution_count": 22,
   "metadata": {},
   "outputs": [
    {
     "name": "stdout",
     "output_type": "stream",
     "text": [
      "<__main__.Person object at 0x0000020E9EF0FDF0>\n"
     ]
    }
   ],
   "source": [
    "print(maria)"
   ]
  },
  {
   "cell_type": "code",
   "execution_count": 23,
   "metadata": {},
   "outputs": [],
   "source": [
    "# <__main__.Person object at 0x0000020E9EF0FDF0> 이렇게 나오는 거는 프로그램이 없어서임"
   ]
  },
  {
   "cell_type": "code",
   "execution_count": 24,
   "metadata": {},
   "outputs": [],
   "source": [
    "class Person:\n",
    "    def __init__(self, name, age, address):\n",
    "        self.hello = '안녕하세요?'\n",
    "        self.name = name\n",
    "        self.age = age\n",
    "        self.address = address\n",
    "    def greeting(self):\n",
    "        print(f' {self.hello} 저는 {self.name} 입니다. ')\n",
    "    \n",
    "    def __str__(self):\n",
    "        return f' hello:{self.hello} name:{self.name}, age:{self.age}, address:{self.address}'"
   ]
  },
  {
   "cell_type": "code",
   "execution_count": 28,
   "metadata": {},
   "outputs": [
    {
     "name": "stdout",
     "output_type": "stream",
     "text": [
      " hello:안녕하세요? name:마리아, age:23, address:서울시 서초구 서초동\n"
     ]
    }
   ],
   "source": [
    "# __str__method 만든 후에는\n",
    "maria = Person('마리아', 23, '서울시 서초구 서초동')\n",
    "print(maria)"
   ]
  },
  {
   "cell_type": "code",
   "execution_count": 27,
   "metadata": {},
   "outputs": [
    {
     "name": "stdout",
     "output_type": "stream",
     "text": [
      " hello:반갑습니다. name:마리아, age:23, address:서울시 서초구 서초동\n"
     ]
    }
   ],
   "source": [
    "maria.hello = '반갑습니다.'\n",
    "print(maria)"
   ]
  },
  {
   "cell_type": "markdown",
   "metadata": {},
   "source": [
    "### 34.3 비공개 속성"
   ]
  },
  {
   "cell_type": "code",
   "execution_count": 29,
   "metadata": {},
   "outputs": [],
   "source": [
    "class Person:\n",
    "    def __init__(self, name, age, address, wallet):\n",
    "        self.name = name\n",
    "        self.age = age\n",
    "        self.address = address\n",
    "        self.__wallet = wallet      # 월렛 앞에 언더바(__) 두개 붙이면 비공개 속성이 됨"
   ]
  },
  {
   "cell_type": "code",
   "execution_count": 36,
   "metadata": {},
   "outputs": [
    {
     "ename": "AttributeError",
     "evalue": "'Person' object has no attribute '__wallet'",
     "output_type": "error",
     "traceback": [
      "\u001b[1;31m---------------------------------------------------------------------------\u001b[0m",
      "\u001b[1;31mAttributeError\u001b[0m                            Traceback (most recent call last)",
      "\u001b[1;32m~\\AppData\\Local\\Temp/ipykernel_17488/1370797430.py\u001b[0m in \u001b[0;36m<module>\u001b[1;34m\u001b[0m\n\u001b[0;32m      1\u001b[0m \u001b[0mjames\u001b[0m \u001b[1;33m=\u001b[0m \u001b[0mPerson\u001b[0m\u001b[1;33m(\u001b[0m\u001b[1;34m'제임스'\u001b[0m\u001b[1;33m,\u001b[0m \u001b[1;36m25\u001b[0m\u001b[1;33m,\u001b[0m \u001b[1;34m'서울시 서초구 서초동'\u001b[0m\u001b[1;33m,\u001b[0m \u001b[1;36m10000\u001b[0m\u001b[1;33m)\u001b[0m\u001b[1;33m\u001b[0m\u001b[1;33m\u001b[0m\u001b[0m\n\u001b[1;32m----> 2\u001b[1;33m \u001b[0mjames\u001b[0m\u001b[1;33m.\u001b[0m\u001b[0m__wallet\u001b[0m \u001b[1;33m-=\u001b[0m \u001b[1;36m10000\u001b[0m     \u001b[1;31m#클래스 바깥에서 비공개 속성에 접근하면 에러남\u001b[0m\u001b[1;33m\u001b[0m\u001b[1;33m\u001b[0m\u001b[0m\n\u001b[0m",
      "\u001b[1;31mAttributeError\u001b[0m: 'Person' object has no attribute '__wallet'"
     ]
    }
   ],
   "source": [
    "james = Person('제임스', 25, '서울시 서초구 서초동', 10000)\n",
    "james.__wallet -= 10000     #클래스 바깥에서 비공개 속성에 접근하면 에러남"
   ]
  },
  {
   "cell_type": "code",
   "execution_count": 37,
   "metadata": {},
   "outputs": [],
   "source": [
    "class Person:\n",
    "    def __init__(self, name, age, address, wallet):\n",
    "        self.name = name\n",
    "        self.age = age\n",
    "        self.address = address\n",
    "        self.__wallet = wallet \n",
    "    \n",
    "    def pay(self, amount):\n",
    "        if self.__wallet < amount :\n",
    "            print( '지갑에 돈이 부족합니다.')\n",
    "            return\n",
    "        self.__wallet -= amount\n",
    "        print( f' 지갑에 남은 돈은 {self.__wallet:,d}원 입니다.')"
   ]
  },
  {
   "cell_type": "code",
   "execution_count": 38,
   "metadata": {},
   "outputs": [],
   "source": [
    "james=Person('제임스', 25, '서울시 서초구 반포동', 10000)"
   ]
  },
  {
   "cell_type": "code",
   "execution_count": 39,
   "metadata": {},
   "outputs": [
    {
     "name": "stdout",
     "output_type": "stream",
     "text": [
      " 지갑에 남은 돈은 7,500원 입니다.\n"
     ]
    }
   ],
   "source": [
    "james.pay(2500)"
   ]
  },
  {
   "cell_type": "code",
   "execution_count": 40,
   "metadata": {},
   "outputs": [
    {
     "name": "stdout",
     "output_type": "stream",
     "text": [
      "지갑에 돈이 부족합니다.\n"
     ]
    }
   ],
   "source": [
    "james.pay(8000)"
   ]
  },
  {
   "cell_type": "code",
   "execution_count": 53,
   "metadata": {},
   "outputs": [],
   "source": [
    "class Person:\n",
    "    def __init__(self, name, age, address, wallet):\n",
    "        self.name = name\n",
    "        self.age = age\n",
    "        self.address = address\n",
    "        self.__wallet = wallet \n",
    "    \n",
    "    def pay(self, amount):\n",
    "        if self.__wallet < amount :\n",
    "            print( '지갑에 돈이 부족합니다.')\n",
    "            return\n",
    "        self.__wallet -= amount\n",
    "        print( f' 지갑에 남은 돈은 {self.__wallet:,d}원 입니다.')\n",
    "\n",
    "    def __greeting(self):\n",
    "        print('hello')\n",
    "\n",
    "    def hello(self):\n",
    "        self.__greeting()"
   ]
  },
  {
   "cell_type": "code",
   "execution_count": 54,
   "metadata": {},
   "outputs": [],
   "source": [
    "james=Person('제임스', 25, '서울시 서초구 반포동', 10000)"
   ]
  },
  {
   "cell_type": "code",
   "execution_count": 55,
   "metadata": {},
   "outputs": [
    {
     "ename": "AttributeError",
     "evalue": "'Person' object has no attribute '__greeting'",
     "output_type": "error",
     "traceback": [
      "\u001b[1;31m---------------------------------------------------------------------------\u001b[0m",
      "\u001b[1;31mAttributeError\u001b[0m                            Traceback (most recent call last)",
      "\u001b[1;32m~\\AppData\\Local\\Temp/ipykernel_17488/1063803936.py\u001b[0m in \u001b[0;36m<module>\u001b[1;34m\u001b[0m\n\u001b[0;32m      1\u001b[0m \u001b[1;31m# 비공개 메소드\u001b[0m\u001b[1;33m\u001b[0m\u001b[1;33m\u001b[0m\u001b[0m\n\u001b[1;32m----> 2\u001b[1;33m \u001b[0mjames\u001b[0m\u001b[1;33m.\u001b[0m\u001b[0m__greeting\u001b[0m\u001b[1;33m(\u001b[0m\u001b[1;33m)\u001b[0m\u001b[1;33m\u001b[0m\u001b[1;33m\u001b[0m\u001b[0m\n\u001b[0m",
      "\u001b[1;31mAttributeError\u001b[0m: 'Person' object has no attribute '__greeting'"
     ]
    }
   ],
   "source": [
    "# 비공개 메소드\n",
    "james.__greeting()"
   ]
  },
  {
   "cell_type": "code",
   "execution_count": 56,
   "metadata": {},
   "outputs": [
    {
     "name": "stdout",
     "output_type": "stream",
     "text": [
      "hello\n"
     ]
    }
   ],
   "source": [
    "james.hello()       "
   ]
  },
  {
   "cell_type": "markdown",
   "metadata": {},
   "source": [
    "### 연습문제\n",
    "* class Tmoney (심사문제 15.4)"
   ]
  },
  {
   "cell_type": "code",
   "execution_count": 57,
   "metadata": {},
   "outputs": [],
   "source": [
    "class Tmoney :\n",
    "    def __init__(self, age, balance):\n",
    "        self.age = age\n",
    "        self.balance = balance\n",
    "\n",
    "    def pay(self):\n",
    "        if 7<=self.age<=12:\n",
    "            fare = 650\n",
    "        if 13<=self.age<=18:\n",
    "            fare = 1050\n",
    "        if self.age>=19:\n",
    "            fare = 1250\n",
    "        else:\n",
    "            fare = 0\n",
    "        \n",
    "        if self.balance < fare:\n",
    "            print('잔액이 부족합니다.')\n",
    "            return\n",
    "        self.balance -= fare\n",
    "        print( f' {self.age}살의 요금은 {fare:,d}이고, 잔액은 {self.balance:,d}원입니다.')\n"
   ]
  },
  {
   "cell_type": "code",
   "execution_count": 59,
   "metadata": {},
   "outputs": [
    {
     "name": "stdout",
     "output_type": "stream",
     "text": [
      " 30살의 요금은 1,250이고, 잔액은 7,750원입니다.\n"
     ]
    }
   ],
   "source": [
    "card = Tmoney(30,9000)\n",
    "card.pay()"
   ]
  },
  {
   "cell_type": "code",
   "execution_count": 60,
   "metadata": {},
   "outputs": [
    {
     "name": "stdout",
     "output_type": "stream",
     "text": [
      "잔액이 부족합니다.\n"
     ]
    }
   ],
   "source": [
    "card = Tmoney(30,1000)\n",
    "card.pay()"
   ]
  },
  {
   "cell_type": "code",
   "execution_count": 61,
   "metadata": {},
   "outputs": [],
   "source": [
    "# balance 비공개\n",
    "class Tmoney :\n",
    "    def __init__(self, age, balance):\n",
    "        self.age = age\n",
    "        self.__balance = balance\n",
    "\n",
    "    def pay(self):\n",
    "        if 7<=self.age<=12:\n",
    "            fare = 650\n",
    "        if 13<=self.age<=18:\n",
    "            fare = 1050\n",
    "        if self.age>=19:\n",
    "            fare = 1250\n",
    "        else:\n",
    "            fare = 0\n",
    "        \n",
    "        if self.__balance < fare:\n",
    "            print('잔액이 부족합니다.')\n",
    "            return\n",
    "        self.__balance -= fare\n",
    "        print( f' {self.age}살의 요금은 {fare:,d}이고, 잔액은 {self.__balance:,d}원입니다.')"
   ]
  },
  {
   "cell_type": "code",
   "execution_count": 62,
   "metadata": {},
   "outputs": [
    {
     "name": "stdout",
     "output_type": "stream",
     "text": [
      " 30살의 요금은 1,250이고, 잔액은 8,750원입니다.\n"
     ]
    }
   ],
   "source": [
    "card = Tmoney(30,10000)\n",
    "card.pay()"
   ]
  },
  {
   "cell_type": "code",
   "execution_count": 65,
   "metadata": {},
   "outputs": [
    {
     "name": "stdout",
     "output_type": "stream",
     "text": [
      " 30살의 요금은 1,250이고, 잔액은 8,750원입니다.\n",
      " 30살의 요금은 1,250이고, 잔액은 7,500원입니다.\n",
      " 30살의 요금은 1,250이고, 잔액은 6,250원입니다.\n",
      " 30살의 요금은 1,250이고, 잔액은 5,000원입니다.\n",
      " 30살의 요금은 1,250이고, 잔액은 3,750원입니다.\n",
      " 30살의 요금은 1,250이고, 잔액은 2,500원입니다.\n",
      " 30살의 요금은 1,250이고, 잔액은 1,250원입니다.\n",
      " 30살의 요금은 1,250이고, 잔액은 0원입니다.\n",
      "잔액이 부족합니다.\n",
      "잔액이 부족합니다.\n"
     ]
    }
   ],
   "source": [
    "card = Tmoney(30,10000)\n",
    "for i in range(10):\n",
    "    card.pay()"
   ]
  },
  {
   "cell_type": "markdown",
   "metadata": {},
   "source": [
    "* 심사문제 17.6 클래스로"
   ]
  },
  {
   "cell_type": "code",
   "execution_count": 68,
   "metadata": {},
   "outputs": [],
   "source": [
    "class Tcard:\n",
    "    def __init__(self, balance):\n",
    "        self.__balance = balance\n",
    "    \n",
    "    def get_balance(self):\n",
    "        return self.__balance\n",
    "\n",
    "    def pay(self, fare=1350):\n",
    "        if self.__balance< fare:\n",
    "            print('잔액이 부족합니다.')\n",
    "        self.__balance -= fare\n",
    "        print( f' 잔액:{self.__balance:,d} ')\n"
   ]
  },
  {
   "cell_type": "code",
   "execution_count": 70,
   "metadata": {},
   "outputs": [
    {
     "name": "stdout",
     "output_type": "stream",
     "text": [
      " 잔액:8,650 \n",
      " 잔액:7,300 \n",
      " 잔액:5,950 \n",
      " 잔액:4,600 \n",
      " 잔액:3,250 \n",
      " 잔액:1,900 \n",
      " 잔액:550 \n"
     ]
    }
   ],
   "source": [
    "card = Tcard(10000)\n",
    "fare = 1350\n",
    "while card.get_balance() >=fare:\n",
    "    card.pay()"
   ]
  },
  {
   "cell_type": "code",
   "execution_count": null,
   "metadata": {},
   "outputs": [],
   "source": []
  }
 ],
 "metadata": {
  "interpreter": {
   "hash": "6d46af94c2bbce495f1e668725902fa517c90b1782bcfe2fce0dd9868df553d3"
  },
  "kernelspec": {
   "display_name": "Python 3.9.7 ('base')",
   "language": "python",
   "name": "python3"
  },
  "language_info": {
   "codemirror_mode": {
    "name": "ipython",
    "version": 3
   },
   "file_extension": ".py",
   "mimetype": "text/x-python",
   "name": "python",
   "nbconvert_exporter": "python",
   "pygments_lexer": "ipython3",
   "version": "3.9.7"
  },
  "orig_nbformat": 4
 },
 "nbformat": 4,
 "nbformat_minor": 2
}
