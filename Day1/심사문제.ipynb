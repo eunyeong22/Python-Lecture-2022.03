{
 "cells": [
  {
   "cell_type": "markdown",
   "metadata": {},
   "source": [
    "### 심사문제 5."
   ]
  },
  {
   "cell_type": "markdown",
   "metadata": {},
   "source": [
    "L이라는 게임에서 \"왜곡\"이라는 스킬이 AP * 0.6 + 225의 피해를 입힙니다. \n",
    "참고로 이 게임에서 AP(Ability Power, 주문력)는 마법 능력치를 뜻합니다. \n",
    "다음 소스 코드를 완성하여 스킬의 피해량이 출력되게 만드세요.\n",
    "AP: 102"
   ]
  },
  {
   "cell_type": "code",
   "execution_count": 1,
   "metadata": {},
   "outputs": [
    {
     "name": "stdout",
     "output_type": "stream",
     "text": [
      "286.2\n"
     ]
    }
   ],
   "source": [
    "print(102*0.6+225)"
   ]
  },
  {
   "cell_type": "markdown",
   "metadata": {},
   "source": [
    "### 심사문제 6.7"
   ]
  },
  {
   "cell_type": "markdown",
   "metadata": {},
   "source": [
    "다음 소스 코드를 완성하여 50, 100, None이 각 줄에 출력되게 만드세요."
   ]
  },
  {
   "cell_type": "code",
   "execution_count": 3,
   "metadata": {},
   "outputs": [
    {
     "name": "stdout",
     "output_type": "stream",
     "text": [
      "50\n",
      "100\n",
      "None\n"
     ]
    }
   ],
   "source": [
    "print(50); print(100); print(None)"
   ]
  },
  {
   "cell_type": "markdown",
   "metadata": {},
   "source": [
    "### 심사문제 6.8"
   ]
  },
  {
   "cell_type": "markdown",
   "metadata": {},
   "source": [
    "표준 입력으로 국어, 영어, 수학, 과학 점수가 입력됩니다. \n",
    "평균 점수를 출력하는 프로그램을 만드세요(input에서 안내 문자열은 출력하지 않아야 합니다). \n",
    "단, 평균 점수를 출력할 때는 소수점 이하 자리는 버립니다(정수로 출력).\n",
    "\n",
    "참고 | 심사문제에서 안내 문자열은?\n",
    "input에 문자열을 지정하면 입력을 받기 전에 안내 문자열을 출력할 수 있습니다. \n",
    "하지만 심사문제에서는 입력을 받을 때 안내 문자열을 출력하면 안 됩니다.\n",
    "\n",
    "a = int(input('숫자를 입력하세요: '))  # X 심사문제를 통과할 수 없음\n",
    "a = int(input())                     # O 올바른 코드\n",
    " \n",
    "a, b = map(int, input('숫자 두 개를 입력하세요: ').split()) # X 심사문제를 통과할 수 없음\n",
    "a, b = map(int, input().split())                          # O 올바른 코드\n",
    "\n",
    "따라서 input()과 같이 안내 문자열이 없는 형태로 사용해주세요.\n",
    "\n",
    "83,92,87,90"
   ]
  },
  {
   "cell_type": "code",
   "execution_count": 5,
   "metadata": {},
   "outputs": [
    {
     "data": {
      "text/plain": [
       "[83, 92, 87, 90]"
      ]
     },
     "execution_count": 5,
     "metadata": {},
     "output_type": "execute_result"
    }
   ],
   "source": [
    "numbers=list(map(int,input('정수 여러개를 입력하세요.').split()))\n",
    "numbers"
   ]
  },
  {
   "cell_type": "code",
   "execution_count": 6,
   "metadata": {},
   "outputs": [
    {
     "data": {
      "text/plain": [
       "88.0"
      ]
     },
     "execution_count": 6,
     "metadata": {},
     "output_type": "execute_result"
    }
   ],
   "source": [
    "sum(numbers)/len(numbers)"
   ]
  },
  {
   "cell_type": "markdown",
   "metadata": {},
   "source": [
    "### 심사문제 7."
   ]
  },
  {
   "cell_type": "markdown",
   "metadata": {},
   "source": [
    "표준 입력으로 년, 월, 일, 시, 분, 초가 입력됩니다. \n",
    "다음 소스 코드를 완성하여 입력된 날짜와 시간을 년-월-일T시:분:초 형식으로 출력되게 만드세요.\n",
    "year, month, day, hour, minute, second = input().split()\n",
    "\n",
    "_______________________________________\n",
    "print(hour, minute, second, sep=':')\n",
    "\n",
    "1999-12-31T10:37:21\n",
    "2017-10-27T11:43:59"
   ]
  },
  {
   "cell_type": "code",
   "execution_count": 8,
   "metadata": {},
   "outputs": [
    {
     "name": "stdout",
     "output_type": "stream",
     "text": [
      "1999-12-31T10:37:21\n"
     ]
    }
   ],
   "source": [
    "print(1999,12,31, sep='-', end='T')\n",
    "print(10,37,21, sep=':')"
   ]
  },
  {
   "cell_type": "code",
   "execution_count": 9,
   "metadata": {},
   "outputs": [
    {
     "name": "stdout",
     "output_type": "stream",
     "text": [
      "2017-10-27T11:43:59\n"
     ]
    }
   ],
   "source": [
    "print(2017,10,27, sep='-', end='T')\n",
    "print(11,43,59, sep=':')"
   ]
  },
  {
   "cell_type": "markdown",
   "metadata": {},
   "source": [
    "### 심사문제 8."
   ]
  },
  {
   "cell_type": "markdown",
   "metadata": {},
   "source": [
    "표준 입력으로 국어, 영어, 수학, 과학 점수가 입력됩니다. \n",
    "국어는 90점 이상, 영어는 80점 초과, 수학은 85점 초과, 과학은 80점 이상일 때 합격이라고 정했습니다\n",
    "(한 과목이라도 조건에 만족하지 않으면 불합격). \n",
    "다음 소스 코드를 완성하여 합격이면 True, 불합격이면 False가 출력되게 만드세요\n",
    "(input에서 안내 문자열은 출력하지 않아야 합니다).\n",
    "\n",
    "90 81 86 80\n",
    "90 80 85 80"
   ]
  },
  {
   "cell_type": "code",
   "execution_count": 2,
   "metadata": {},
   "outputs": [],
   "source": [
    "a=90\n",
    "b=81\n",
    "c=86\n",
    "d=80"
   ]
  },
  {
   "cell_type": "code",
   "execution_count": 13,
   "metadata": {},
   "outputs": [
    {
     "name": "stdout",
     "output_type": "stream",
     "text": [
      "True\n"
     ]
    }
   ],
   "source": [
    "print(a>=90 and b>80 and c>85 and d>=80)"
   ]
  },
  {
   "cell_type": "code",
   "execution_count": 3,
   "metadata": {},
   "outputs": [],
   "source": [
    "a=90\n",
    "b=80\n",
    "c=85\n",
    "d=80"
   ]
  },
  {
   "cell_type": "code",
   "execution_count": 4,
   "metadata": {},
   "outputs": [
    {
     "name": "stdout",
     "output_type": "stream",
     "text": [
      "False\n"
     ]
    }
   ],
   "source": [
    "print(a>=90 and b>80 and c>85 and d>=80)"
   ]
  },
  {
   "cell_type": "code",
   "execution_count": null,
   "metadata": {},
   "outputs": [],
   "source": []
  }
 ],
 "metadata": {
  "interpreter": {
   "hash": "27cc1592400a49e29347d731bddc25ead99330001d369613af25ccd9674a593a"
  },
  "kernelspec": {
   "display_name": "Python 3.9.7 ('base')",
   "language": "python",
   "name": "python3"
  },
  "language_info": {
   "codemirror_mode": {
    "name": "ipython",
    "version": 3
   },
   "file_extension": ".py",
   "mimetype": "text/x-python",
   "name": "python",
   "nbconvert_exporter": "python",
   "pygments_lexer": "ipython3",
   "version": "3.9.7"
  },
  "orig_nbformat": 4
 },
 "nbformat": 4,
 "nbformat_minor": 2
}
