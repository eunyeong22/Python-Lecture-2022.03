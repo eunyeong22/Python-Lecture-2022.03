Unit 8. 불(Bool)과 논리/비교 연산자
8.1 불과 비교연산자
True, False
(True, False)
# 비교 연산자: >, <, ==, >=, <=, !=
5 > 3, 4 > 6, 5 == 10
(True, False, False)
# 비교 연산자는 산술 연산자보다 우선순위가 낮다
5 > 3 + 4, 5 > (3 + 4)  
(False, False)
# 불 + 정수의 결과는 정수가 됨
# True는 1, False는 0
(5 > 3) + 4
5
# 문자열 비교, 대소문자 구분함
'Python' == 'Java', 'Python' == 'python'
(False, False)
# 사전순
'apple' > 'pineapple'
False
# A: 0x41, C: 0x43
'A' < 'C'
True
# 객체가 같은지 비교(is, is not)
1 == 1.0, 1 is 1.0
<>:2: SyntaxWarning: "is" with a literal. Did you mean "=="?
<>:2: SyntaxWarning: "is" with a literal. Did you mean "=="?
C:\Users\ezen\AppData\Local\Temp/ipykernel_11384/1844834992.py:2: SyntaxWarning: "is" with a literal. Did you mean "=="?
  1 == 1.0, 1 is 1.0
(True, False)
8.2 논리 연산자
# 논리곱(and)
t, f = True, False
f and f, f and t, t and f, t and t
(False, False, False, True)
# 논리합(or)
f or f, f or t, t or f, t or t
(False, True, True, True)
not f, not t
(True, False)
논리 연산자와 비교 연산자 혼용
import random

a = random.randint(1,6)
a, a >= 4
(1, False)
a = random.randint(1,6)
a, a >= 2 and a <= 4        # 비교 연산자의 우선순위가 논리 연산자보다 높다
(2, True)
a = random.randint(1,6)
a, 2 <= a <= 4              # 파이썬에서만 가능한 문법
(2, True)
a = random.randint(1,6)
a, a < 2 or a > 4
(1, True)
정수, 실수, 문자열의 논리값
type(True)
bool
# 정수 -> 불, 0 만 False이고 나머지는 모두 True
bool(3), bool(-10), bool(0)
(True, True, False)
# 실수 -> 불, 0 만 False이고 나머지는 모두 True
bool(0.1), bool(-2.5), bool(0.0)
(True, True, False)
# 문자열 -> 불, 빈 스트링만 False
bool(' '), bool('abc'), bool('')
(True, True, False)
bool(None)
False
불을 정수, 실수, 문자열값
int(True), int(False), float(True), float(False)
(1, 0, 1.0, 0.0)
str(True), str(False)
('True', 'False')
Short circuit evaluation
print(True or (a < 2 or a > 4))
True
print(False and (a < 2 or a > 4))
False
 
