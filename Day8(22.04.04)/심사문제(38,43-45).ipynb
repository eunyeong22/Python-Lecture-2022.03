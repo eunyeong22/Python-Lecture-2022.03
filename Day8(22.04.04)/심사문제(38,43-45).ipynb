{
 "cells": [
  {
   "cell_type": "markdown",
   "metadata": {},
   "source": [
    "### 심사문제 38.7"
   ]
  },
  {
   "cell_type": "markdown",
   "metadata": {},
   "source": [
    "<pre>\n",
    "\n",
    "표준 입력으로 문자열이 입력됩니다. \n",
    "다음 소스 코드를 완성하여 입력된 문자열이 회문이면 문자열을 그대로 출력하고, \n",
    "회문이 아니면 '회문이 아닙니다.'를 출력하도록 만드세요.\n",
    "palindrome 함수와 NotPalindromeError 예외를 작성해야 합니다.\n",
    "________________\n",
    "________________\n",
    "________________\n",
    "________________\n",
    "________________\n",
    "________________\n",
    "________________\n",
    "try:\n",
    "    word = input()\n",
    "    palindrome(word)\n",
    "except NotPalindromeError as e:\n",
    "    print(e)\n",
    "\n",
    "입력 level\n",
    "결과 level\n",
    "\n",
    "입력 hello\n",
    "결과 회문이 아닙니다.\n",
    "\n",
    "</pre>"
   ]
  },
  {
   "cell_type": "code",
   "execution_count": 6,
   "metadata": {},
   "outputs": [
    {
     "name": "stdout",
     "output_type": "stream",
     "text": [
      "회문이 아닙니다.\n",
      "\n"
     ]
    }
   ],
   "source": [
    "class NotpalindromeError(Exception) :\n",
    "    def __init__(self):\n",
    "        print('회문이 아닙니다.')\n",
    "def palindrome(word):\n",
    "    if word != word[::-1]:\n",
    "        raise NotpalindromeError\n",
    "    print(word)\n",
    "\n",
    "try:\n",
    "    word = input()\n",
    "    palindrome(word)\n",
    "except NotpalindromeError as e:\n",
    "    print(e)\n",
    "    \n"
   ]
  },
  {
   "cell_type": "markdown",
   "metadata": {},
   "source": [
    "### 심사문제 43.6"
   ]
  },
  {
   "cell_type": "markdown",
   "metadata": {},
   "source": [
    "<pre>\n",
    "표준 입력으로 URL 문자열이 입력 입력됩니다. \n",
    "입력된 URL이 올바르면 True, 잘못되었으면 False를 출력하는 프로그램을 만드세요. \n",
    "이 심사문제에서 판단해야 할 URL의 규칙은 다음과 같습니다.\n",
    "\n",
    "http:// 또는 https://로 시작\n",
    "도메인은 도메인.최상위도메인 형식이며 영문 대소문자, 숫자, -로 되어 있어야 함\n",
    "도메인 이하 경로는 /로 구분하고, 영문 대소문자, 숫자, -, _, ., ?, =을 사용함\n",
    "________________________________\n",
    "________________________________\n",
    "________________________________\n",
    "\n",
    "입력 http://www.example.com/hello/world.do?key=python\n",
    "결과 True\n",
    "\n",
    "입력 https://example/hello/world.html\n",
    "결과 False\n",
    "</pre>"
   ]
  },
  {
   "cell_type": "code",
   "execution_count": 20,
   "metadata": {},
   "outputs": [
    {
     "name": "stdout",
     "output_type": "stream",
     "text": [
      "False\n"
     ]
    }
   ],
   "source": [
    "url = input()\n",
    "\n",
    "import re\n",
    "rule = re.compile('^[http://|https://] + [a-zA-Z0-9-] + \\.[a-zA-Z0-9-] + /[a-zA-Z0-9-_.?=]*')\n",
    "\n",
    "print(rule.match(url) !=None)"
   ]
  },
  {
   "cell_type": "markdown",
   "metadata": {},
   "source": [
    "### 심사문제 44.6"
   ]
  },
  {
   "cell_type": "markdown",
   "metadata": {},
   "source": [
    "<pre>\n",
    "표준 입력으로 원의 반지름(실수)이 입력됩니다. \n",
    "입력된 반지름을 이용하여 원의 넓이를 출력하는 프로그램을 만드세요\n",
    "(input에서 안내 문자열은 출력하지 않아야 합니다). \n",
    "원의 넓이는 반지름 * 반지름 * 원주율로 구합니다.\n",
    "________________\n",
    "________________\n",
    "________________\n",
    "\n",
    "입력 10.0\n",
    "결과 314.1592653589793\n",
    "\n",
    "입력 2.5\n",
    "결과 19.634954084936208\n",
    "</pre>"
   ]
  },
  {
   "cell_type": "code",
   "execution_count": 22,
   "metadata": {},
   "outputs": [
    {
     "name": "stdout",
     "output_type": "stream",
     "text": [
      "19.634954084936208\n"
     ]
    }
   ],
   "source": [
    "import math as m\n",
    "r= float(input())\n",
    "print(r*r*m.pi)"
   ]
  },
  {
   "cell_type": "markdown",
   "metadata": {},
   "source": [
    "### 심사문제 45.7"
   ]
  },
  {
   "cell_type": "markdown",
   "metadata": {},
   "source": [
    "<pre>\n",
    "표준 입력으로 정수가 입력됩니다. \n",
    "주어진 calcpkg 패키지를 활용하여 입력된 정수의 제곱근과 입력된 정수를 반지름으로 하는 \n",
    "원의 넓이가 출력되게 만드세요. \n",
    "제곱근은 calcpkg 패키지에서 operation 모듈의 squareroot 함수를 사용하고, \n",
    "원의 넓이는 calcpkg 패키지에서 geometry 모듈의 circle_area 함수를 사용하세요\n",
    "(calcpkg 패키지를 사용하지 않고 계산하면 결과가 맞더라도 틀린 것으로 처리됩니다. \n",
    "반드시 calcpkg 패키지를 사용하세요).\n",
    "\n",
    "calcpkg/__init__.py\n",
    "# 내용이 비어 있음\n",
    "\n",
    "calcpkg/operation.py\n",
    "import math\n",
    " \n",
    "def squareroot(n):\n",
    "    return math.sqrt(n)\n",
    "\n",
    "calcpkg/geometry.py\n",
    "import math\n",
    " \n",
    "def circle_area(radius):\n",
    "    return radius * radius * math.pi\n",
    "\n",
    "________________\n",
    "________________\n",
    "________________\n",
    "________________\n",
    "________________\n",
    "\n",
    "표준 입력 2\n",
    "표준 출력\n",
    "1.4142135623730951\n",
    "12.566370614359172\n",
    "</pre>"
   ]
  },
  {
   "cell_type": "code",
   "execution_count": 23,
   "metadata": {},
   "outputs": [
    {
     "name": "stdout",
     "output_type": "stream",
     "text": [
      "1.4142135623730951\n",
      "12.566370614359172\n"
     ]
    }
   ],
   "source": [
    "import calcpkg2.operation\n",
    "import calcpkg2.geometry\n",
    "\n",
    "a= int(input())\n",
    "\n",
    "print(calcpkg2.operation.squareroot(a))\n",
    "print(calcpkg2.geometry.circle_area(a))"
   ]
  }
 ],
 "metadata": {
  "interpreter": {
   "hash": "6d46af94c2bbce495f1e668725902fa517c90b1782bcfe2fce0dd9868df553d3"
  },
  "kernelspec": {
   "display_name": "Python 3.9.7 ('base')",
   "language": "python",
   "name": "python3"
  },
  "language_info": {
   "codemirror_mode": {
    "name": "ipython",
    "version": 3
   },
   "file_extension": ".py",
   "mimetype": "text/x-python",
   "name": "python",
   "nbconvert_exporter": "python",
   "pygments_lexer": "ipython3",
   "version": "3.9.7"
  },
  "orig_nbformat": 4
 },
 "nbformat": 4,
 "nbformat_minor": 2
}
