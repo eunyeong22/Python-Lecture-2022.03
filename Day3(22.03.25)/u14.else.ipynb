{
 "cells": [
  {
   "cell_type": "markdown",
   "metadata": {},
   "source": [
    "## Unit 14. 조건문 if-else"
   ]
  },
  {
   "cell_type": "code",
   "execution_count": 1,
   "metadata": {},
   "outputs": [],
   "source": [
    "import random"
   ]
  },
  {
   "cell_type": "code",
   "execution_count": 2,
   "metadata": {},
   "outputs": [
    {
     "name": "stdout",
     "output_type": "stream",
     "text": [
      "큰 수\n",
      "6\n"
     ]
    }
   ],
   "source": [
    "x=random.randint(1,6)\n",
    "if x>=4:\n",
    "    print('큰 수')\n",
    "else:\n",
    "    print('작은 수')\n",
    "print(x)"
   ]
  },
  {
   "cell_type": "code",
   "execution_count": 3,
   "metadata": {},
   "outputs": [
    {
     "name": "stdout",
     "output_type": "stream",
     "text": [
      "짝수\n",
      "4\n"
     ]
    }
   ],
   "source": [
    "x=random.randint(1,6)\n",
    "if x %2==0:\n",
    "    print('짝수')\n",
    "else:\n",
    "    print('홀수')\n",
    "print(x)"
   ]
  },
  {
   "cell_type": "code",
   "execution_count": 4,
   "metadata": {},
   "outputs": [
    {
     "name": "stdout",
     "output_type": "stream",
     "text": [
      "5 odd number\n"
     ]
    }
   ],
   "source": [
    "x=random.randint(1,6)\n",
    "if x %2==0:\n",
    "    result='even number'  #result사용\n",
    "else:\n",
    "    result='odd number'   #result사용\n",
    "print(x,result)           #result값 표시 "
   ]
  },
  {
   "cell_type": "markdown",
   "metadata": {},
   "source": [
    "* 조건부 표현식(3항 연산자)"
   ]
  },
  {
   "cell_type": "code",
   "execution_count": 6,
   "metadata": {},
   "outputs": [
    {
     "name": "stdout",
     "output_type": "stream",
     "text": [
      "5 odd\n"
     ]
    }
   ],
   "source": [
    "#코드를 축약시킬 수 있음\n",
    "#자바, 자바스크립트에서는 result=x%2==0? \"even\":\"odd\"; 이렇게 표시함\n",
    "result='even' if x%2==0 else 'odd'     # 위의 4줄을 1줄로 축약함 ★외워두면 좋음\n",
    "print(x, result)"
   ]
  },
  {
   "cell_type": "markdown",
   "metadata": {},
   "source": [
    "### 14.2 else와 들여쓰기"
   ]
  },
  {
   "cell_type": "code",
   "execution_count": 9,
   "metadata": {},
   "outputs": [
    {
     "name": "stdout",
     "output_type": "stream",
     "text": [
      "10입니다\n",
      "10이 아닙니다\n"
     ]
    }
   ],
   "source": [
    "x=10\n",
    "if x==10:\n",
    "    print('10입니다')\n",
    "else:\n",
    "    print('x에 들어있는 숫자는')\n",
    "print('10이 아닙니다')"
   ]
  },
  {
   "cell_type": "code",
   "execution_count": 10,
   "metadata": {},
   "outputs": [
    {
     "name": "stdout",
     "output_type": "stream",
     "text": [
      "10입니다\n"
     ]
    }
   ],
   "source": [
    "if x==10:\n",
    "    print('10입니다')\n",
    "else:\n",
    "    print('x에 들어있는 숫자는')\n",
    "    print('10이 아닙니다')"
   ]
  },
  {
   "cell_type": "markdown",
   "metadata": {},
   "source": [
    "### 14.3 동작방식"
   ]
  },
  {
   "cell_type": "code",
   "execution_count": 11,
   "metadata": {},
   "outputs": [
    {
     "name": "stdout",
     "output_type": "stream",
     "text": [
      "10\n"
     ]
    }
   ],
   "source": [
    "if x:\n",
    "    print(x)\n",
    "else:\n",
    "    print('None')"
   ]
  },
  {
   "cell_type": "code",
   "execution_count": 13,
   "metadata": {},
   "outputs": [
    {
     "name": "stdout",
     "output_type": "stream",
     "text": [
      "Python\n"
     ]
    }
   ],
   "source": [
    "x='Python'\n",
    "if x:\n",
    "    print(x)\n",
    "else:\n",
    "    print('0, 0.0, \"\", False, None입니다')         # False로 취급하는 것들 기억 필요!!"
   ]
  },
  {
   "cell_type": "markdown",
   "metadata": {},
   "source": [
    "### 14.4 여러개의 조건식"
   ]
  },
  {
   "cell_type": "code",
   "execution_count": 16,
   "metadata": {},
   "outputs": [
    {
     "name": "stdout",
     "output_type": "stream",
     "text": [
      "FizzBuzz\n"
     ]
    }
   ],
   "source": [
    "# 3과 5의 공배수면 FizzBuzz를 출력\n",
    "# 그렇지 않으면 숫자값을 출력\n",
    "# 1 2 Fizz 4 Buzz Fizz 7 8 Fizz Buzz 11 Fizz 13 14 FizzBuzz....\n",
    "\n",
    "x=30\n",
    "if x %3 == 0 and x %5 == 0:\n",
    "    print('FizzBuzz')\n",
    "else:\n",
    "    print(x)"
   ]
  },
  {
   "cell_type": "code",
   "execution_count": 19,
   "metadata": {},
   "outputs": [
    {
     "name": "stdout",
     "output_type": "stream",
     "text": [
      "10과 20사이\n"
     ]
    }
   ],
   "source": [
    "x=14\n",
    "if x>=10 and x<=20:\n",
    "    print('10과 20사이')\n",
    "else:\n",
    "    print(x)"
   ]
  },
  {
   "cell_type": "code",
   "execution_count": 21,
   "metadata": {},
   "outputs": [
    {
     "name": "stdout",
     "output_type": "stream",
     "text": [
      "10과 20사이\n"
     ]
    }
   ],
   "source": [
    "if 10<= x <=20:           # 위에꺼 이렇게 줄여쓸수 있음\n",
    "    print('10과 20사이')\n",
    "else:\n",
    "    print(x)"
   ]
  },
  {
   "cell_type": "markdown",
   "metadata": {},
   "source": [
    "### 연습문제\n",
    "<pre> \n",
    "4로 나누어지면 윤년\n",
    "100으로 나누어지면 평년\n",
    "400으로 나누어지면 윤년\n",
    "그외 평년"
   ]
  },
  {
   "cell_type": "code",
   "execution_count": 34,
   "metadata": {},
   "outputs": [
    {
     "name": "stdout",
     "output_type": "stream",
     "text": [
      "2004 윤년\n"
     ]
    }
   ],
   "source": [
    "# 테스트 케이스 : 1900, 1901, 2000, 2004\n",
    "\n",
    "x= 2004\n",
    "if x %4==0:\n",
    "    if x%100==0:\n",
    "        if x%400==0:\n",
    "            print(x, '윤년')\n",
    "        else:\n",
    "            print(x, '평년')\n",
    "    else:\n",
    "        print(x,'윤년')\n",
    "else:\n",
    "    print(x, '평년')\n",
    "\n",
    "\n",
    "#4로나누어졌을 때의 if와 else식을 먼저 적은뒤, 100으로 나눌 때 if,else만드는 순으로 끼워넣기"
   ]
  },
  {
   "cell_type": "code",
   "execution_count": 36,
   "metadata": {},
   "outputs": [
    {
     "name": "stdout",
     "output_type": "stream",
     "text": [
      "2000 윤년\n"
     ]
    }
   ],
   "source": [
    "# Code Refactoring\n",
    "\n",
    "x=2000\n",
    "if x %4==0:\n",
    "    if x%100==0 and x%400 !=0:\n",
    "        print(x, '평년')\n",
    "    else:\n",
    "        print(x,'윤년')\n",
    "else:\n",
    "    print(x, '평년')\n"
   ]
  },
  {
   "cell_type": "code",
   "execution_count": 40,
   "metadata": {},
   "outputs": [
    {
     "name": "stdout",
     "output_type": "stream",
     "text": [
      "2000 윤년\n"
     ]
    }
   ],
   "source": [
    "x=2000\n",
    "if x %4==0 and not( x%100==0 and x%400 !=0):\n",
    "    print(x, '윤년')\n",
    "else:\n",
    "    print(x, '평년')"
   ]
  },
  {
   "cell_type": "code",
   "execution_count": 41,
   "metadata": {},
   "outputs": [
    {
     "name": "stdout",
     "output_type": "stream",
     "text": [
      "2000 윤년\n"
     ]
    }
   ],
   "source": [
    "# not (A and B) = not A or not B\n",
    "\n",
    "x=2000\n",
    "if x %4==0 and (x%100!=0 or x%400 ==0):\n",
    "    print(x, '윤년')\n",
    "else:\n",
    "    print(x, '평년')"
   ]
  },
  {
   "cell_type": "code",
   "execution_count": null,
   "metadata": {},
   "outputs": [],
   "source": []
  }
 ],
 "metadata": {
  "interpreter": {
   "hash": "6d46af94c2bbce495f1e668725902fa517c90b1782bcfe2fce0dd9868df553d3"
  },
  "kernelspec": {
   "display_name": "Python 3.9.7 ('base')",
   "language": "python",
   "name": "python3"
  },
  "language_info": {
   "codemirror_mode": {
    "name": "ipython",
    "version": 3
   },
   "file_extension": ".py",
   "mimetype": "text/x-python",
   "name": "python",
   "nbconvert_exporter": "python",
   "pygments_lexer": "ipython3",
   "version": "3.9.7"
  },
  "orig_nbformat": 4
 },
 "nbformat": 4,
 "nbformat_minor": 2
}
