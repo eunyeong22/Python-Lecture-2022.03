{
 "cells": [
  {
   "cell_type": "markdown",
   "metadata": {},
   "source": [
    "## Unit 13. if 조건문"
   ]
  },
  {
   "cell_type": "markdown",
   "metadata": {},
   "source": [
    "### 13.1 if 조건문"
   ]
  },
  {
   "cell_type": "code",
   "execution_count": 1,
   "metadata": {},
   "outputs": [],
   "source": [
    "import random       # input 또는 랜덤코드 사용가능"
   ]
  },
  {
   "cell_type": "code",
   "execution_count": 2,
   "metadata": {},
   "outputs": [
    {
     "name": "stdout",
     "output_type": "stream",
     "text": [
      "10입니다.\n"
     ]
    }
   ],
   "source": [
    "x=random.randint(9,11)\n",
    "if x==10:\n",
    "    print('10입니다.')"
   ]
  },
  {
   "cell_type": "code",
   "execution_count": 3,
   "metadata": {},
   "outputs": [
    {
     "ename": "IndentationError",
     "evalue": "expected an indented block (Temp/ipykernel_15492/2356856545.py, line 2)",
     "output_type": "error",
     "traceback": [
      "\u001b[1;36m  File \u001b[1;32m\"C:\\Users\\user\\AppData\\Local\\Temp/ipykernel_15492/2356856545.py\"\u001b[1;36m, line \u001b[1;32m2\u001b[0m\n\u001b[1;33m    print('10입니다.')\u001b[0m\n\u001b[1;37m    ^\u001b[0m\n\u001b[1;31mIndentationError\u001b[0m\u001b[1;31m:\u001b[0m expected an indented block\n"
     ]
    }
   ],
   "source": [
    "if x==10:                                   #들여쓰기 안하면 에러\n",
    "print('10입니다.')"
   ]
  },
  {
   "cell_type": "code",
   "execution_count": 4,
   "metadata": {},
   "outputs": [
    {
     "name": "stdout",
     "output_type": "stream",
     "text": [
      "10\n"
     ]
    }
   ],
   "source": [
    "if x==10:         \n",
    "    pass                         # 코드 생략할 때 pass \"#Todo: x가 10일 때 처리할 코드\"이런식으로 주석을 달아놓으면 편리\n",
    "print(x)"
   ]
  },
  {
   "cell_type": "code",
   "execution_count": 5,
   "metadata": {},
   "outputs": [
    {
     "name": "stdout",
     "output_type": "stream",
     "text": [
      "10\n"
     ]
    }
   ],
   "source": [
    "# 정수값을 논리값으로 변경하면 x가 됨 → 그래서 아래 조건값이 오류가 없음\n",
    "if x:\n",
    "    print(x)"
   ]
  },
  {
   "cell_type": "markdown",
   "metadata": {},
   "source": [
    "### 13.2 if 조건문과 들여쓰기"
   ]
  },
  {
   "cell_type": "code",
   "execution_count": 6,
   "metadata": {},
   "outputs": [
    {
     "name": "stdout",
     "output_type": "stream",
     "text": [
      "10입니다.\n",
      "들여쓰기한 부분은 조건이 참일 경우 실행됩니다.\n",
      "들여쓰기가 끝나면 조건에 관계없이 실행됩니다.\n"
     ]
    }
   ],
   "source": [
    "if x==10:\n",
    "    print('10입니다.')\n",
    "    print('들여쓰기한 부분은 조건이 참일 경우 실행됩니다.')\n",
    "print('들여쓰기가 끝나면 조건에 관계없이 실행됩니다.')"
   ]
  },
  {
   "cell_type": "code",
   "execution_count": 7,
   "metadata": {},
   "outputs": [
    {
     "name": "stdout",
     "output_type": "stream",
     "text": [
      "들여쓰기가 끝나면 조건에 관계없이 실행됩니다.\n"
     ]
    }
   ],
   "source": [
    "if x==9:\n",
    "    print('9입니다.')\n",
    "    print('들여쓰기한 부분은 조건이 참일 경우 실행됩니다.')\n",
    "print('들여쓰기가 끝나면 조건에 관계없이 실행됩니다.')"
   ]
  },
  {
   "cell_type": "markdown",
   "metadata": {},
   "source": [
    "### 13.3 중첩(Nested) 조건문"
   ]
  },
  {
   "cell_type": "code",
   "execution_count": 8,
   "metadata": {},
   "outputs": [
    {
     "name": "stdout",
     "output_type": "stream",
     "text": [
      "10이상입니다\n",
      "15이상입니다\n",
      "17\n"
     ]
    }
   ],
   "source": [
    "x=random.randint(1,20)\n",
    "if x>=10:\n",
    "    print('10이상입니다')\n",
    "    if x>=15:\n",
    "        print('15이상입니다')\n",
    "print(x)"
   ]
  },
  {
   "cell_type": "code",
   "execution_count": 12,
   "metadata": {},
   "outputs": [
    {
     "name": "stdout",
     "output_type": "stream",
     "text": [
      "10이상입니다\n",
      "3의배수입니다\n",
      "18\n"
     ]
    }
   ],
   "source": [
    "# 10이상의 정수, 3의배수를 찾기\n",
    "x=random.randint(1,20)\n",
    "if x>=10:\n",
    "    print('10이상입니다')\n",
    "    if x %3==0:\n",
    "        print('3의배수입니다')\n",
    "print(x)"
   ]
  },
  {
   "cell_type": "code",
   "execution_count": null,
   "metadata": {},
   "outputs": [],
   "source": []
  }
 ],
 "metadata": {
  "interpreter": {
   "hash": "6d46af94c2bbce495f1e668725902fa517c90b1782bcfe2fce0dd9868df553d3"
  },
  "kernelspec": {
   "display_name": "Python 3.9.7 ('base')",
   "language": "python",
   "name": "python3"
  },
  "language_info": {
   "codemirror_mode": {
    "name": "ipython",
    "version": 3
   },
   "file_extension": ".py",
   "mimetype": "text/x-python",
   "name": "python",
   "nbconvert_exporter": "python",
   "pygments_lexer": "ipython3",
   "version": "3.9.7"
  },
  "orig_nbformat": 4
 },
 "nbformat": 4,
 "nbformat_minor": 2
}
