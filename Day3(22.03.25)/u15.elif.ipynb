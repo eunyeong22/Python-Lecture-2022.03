{
 "cells": [
  {
   "cell_type": "markdown",
   "metadata": {},
   "source": [
    "# Unit 15. 조건문 elif "
   ]
  },
  {
   "cell_type": "code",
   "execution_count": 1,
   "metadata": {},
   "outputs": [],
   "source": [
    "import random"
   ]
  },
  {
   "cell_type": "code",
   "execution_count": 6,
   "metadata": {},
   "outputs": [
    {
     "name": "stdout",
     "output_type": "stream",
     "text": [
      "73 C\n"
     ]
    }
   ],
   "source": [
    "# 90점 이상이면 A, 80점 이상이면 B, 70점 이상이면 C, 60점 이상이면 D, 나머진 F\n",
    "\n",
    "score=random.randint(40,100)\n",
    "if score >=90:\n",
    "    grade='A'\n",
    "elif score >=80:\n",
    "    grade='B'\n",
    "elif score >=70:\n",
    "    grade='C'\n",
    "elif score >=60:\n",
    "    grade='D'\n",
    "else:\n",
    "    grade='F'\n",
    "print(score, grade)"
   ]
  },
  {
   "cell_type": "code",
   "execution_count": 15,
   "metadata": {},
   "outputs": [
    {
     "name": "stdout",
     "output_type": "stream",
     "text": [
      "71 C\n"
     ]
    }
   ],
   "source": [
    "score=random.randint(40,100)           # 한줄로 길게 써야할 경우 백슬래시 써서 여러줄로 쓸 수 있음\n",
    "grade='A' if score >=90 else \\\n",
    "        'B' if score >=80 else \\\n",
    "            'C' if score >=70 else \\\n",
    "                'D' if score >=60 else 'F'\n",
    "print (score, grade)"
   ]
  },
  {
   "cell_type": "markdown",
   "metadata": {},
   "source": [
    "### 연습문제\n",
    "<pre>\n",
    "생일을 입력으로 받아 오늘 현재의 만 나이를 계산하세요.\n",
    "</pre>\n"
   ]
  },
  {
   "cell_type": "code",
   "execution_count": 18,
   "metadata": {},
   "outputs": [
    {
     "data": {
      "text/plain": [
       "(2022, 3, 25)"
      ]
     },
     "execution_count": 18,
     "metadata": {},
     "output_type": "execute_result"
    }
   ],
   "source": [
    "import datetime as dt\n",
    "today = dt.date.today()\n",
    "today.year, today.month, today.day"
   ]
  },
  {
   "cell_type": "code",
   "execution_count": 34,
   "metadata": {},
   "outputs": [],
   "source": [
    "# tm<bm 이면 ty-by진행\n",
    "# tm>bm 이면 ty-by+1 진행\n",
    "\n",
    "\n",
    "birth_year, birth_month, birth_day = map(int, input('생년월일').split())"
   ]
  },
  {
   "cell_type": "code",
   "execution_count": 37,
   "metadata": {},
   "outputs": [
    {
     "name": "stdout",
     "output_type": "stream",
     "text": [
      "1984 2 2 38\n"
     ]
    }
   ],
   "source": [
    "if today.month < birth_month :                       # 생월이 안 지났으면\n",
    "    age = today.year - birth_year -1\n",
    "elif today.month > birth_month :                     # 생월이 지났으면\n",
    "    age = today.year - birth_year \n",
    "else:                                                # 생월이 같으면\n",
    "    if today.day <= birth_day:                       # 생일이 안 지났으면\n",
    "        age = today.year - birth_year -1 \n",
    "    else:                                            # 생일이 같거나 지났으면\n",
    "        age = today.year - birth_year           \n",
    "print(birth_year, birth_month, birth_day, age)\n"
   ]
  },
  {
   "cell_type": "code",
   "execution_count": null,
   "metadata": {},
   "outputs": [],
   "source": []
  }
 ],
 "metadata": {
  "interpreter": {
   "hash": "6d46af94c2bbce495f1e668725902fa517c90b1782bcfe2fce0dd9868df553d3"
  },
  "kernelspec": {
   "display_name": "Python 3.9.7 ('base')",
   "language": "python",
   "name": "python3"
  },
  "language_info": {
   "codemirror_mode": {
    "name": "ipython",
    "version": 3
   },
   "file_extension": ".py",
   "mimetype": "text/x-python",
   "name": "python",
   "nbconvert_exporter": "python",
   "pygments_lexer": "ipython3",
   "version": "3.9.7"
  },
  "orig_nbformat": 4
 },
 "nbformat": 4,
 "nbformat_minor": 2
}
