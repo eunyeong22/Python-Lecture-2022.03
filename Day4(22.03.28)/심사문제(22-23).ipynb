{
 "cells": [
  {
   "cell_type": "markdown",
   "metadata": {},
   "source": [
    "### 심사문제 22.10"
   ]
  },
  {
   "cell_type": "markdown",
   "metadata": {},
   "source": [
    "<pre>\n",
    "표준 입력으로 정수 두 개가 입력됩니다\n",
    "(첫 번째 입력 값의 범위는 1~20, 두 번째 입력 값의 범위는 10~30이며 \n",
    "첫 번째 입력 값은 두 번째 입력 값보다 항상 작습니다). \n",
    "첫 번째 정수부터 두 번째 정수까지를 지수로 하는 2의 거듭제곱 리스트를 출력하는 프로그램을 만드세요\n",
    "(input에서 안내 문자열은 출력하지 않아야 합니다). \n",
    "단, 리스트의 두 번째 요소와 뒤에서 두 번째 요소는 삭제한 뒤 출력하세요. \n",
    "출력 결과는 리스트 형태라야 합니다.\n",
    "________________\n",
    "________________\n",
    "________________\n",
    "________________\n",
    "________________\n",
    "\n",
    "입력 1 10\n",
    "결과 [2, 8, 16, 32, 64, 128, 256, 1024]\n",
    "\n",
    "입력 10 20\n",
    "결과 [1024, 4096, 8192, 16384, 32768, 65536, 131072, 262144, 1048576]\n",
    "</pre>"
   ]
  },
  {
   "cell_type": "code",
   "execution_count": 5,
   "metadata": {},
   "outputs": [
    {
     "data": {
      "text/plain": [
       "[1024, 4096, 8192, 16384, 32768, 65536, 131072, 262144, 1048576]"
      ]
     },
     "execution_count": 5,
     "metadata": {},
     "output_type": "execute_result"
    }
   ],
   "source": [
    "a,b = map(int, input().split())\n",
    "c=[2**i for i in range(a, b+1)]\n",
    "c.pop(1) and c.pop(-2)\n",
    "c\n"
   ]
  },
  {
   "cell_type": "code",
   "execution_count": 6,
   "metadata": {},
   "outputs": [
    {
     "name": "stdout",
     "output_type": "stream",
     "text": [
      "[2, 8, 16, 32, 64, 128, 256, 1024]\n"
     ]
    }
   ],
   "source": [
    "# 강사 문제풀이\n",
    "\n",
    "m,n = map(int, input().split())\n",
    "power_list = []\n",
    "for i in range(m,n+1):\n",
    "    power_list.append(2**i)\n",
    "del power_list[1], power_list[-2]\n",
    "print(power_list)"
   ]
  },
  {
   "cell_type": "markdown",
   "metadata": {},
   "source": [
    "### 심사문제 23.7"
   ]
  },
  {
   "cell_type": "markdown",
   "metadata": {},
   "source": [
    "<pre>\n",
    "표준 입력으로 2차원 리스트의 가로(col)와 세로(row)가 입력되고 \n",
    "그 다음 줄부터 리스트의 요소로 들어갈 문자가 입력됩니다. \n",
    "이때 2차원 리스트 안에서 *는 지뢰이고 .은 지뢰가 아닙니다. \n",
    "지뢰가 아닌 요소에는 인접한 지뢰의 개수를 출력하는 프로그램을 만드세요\n",
    "(input에서 안내 문자열은 출력하지 않아야 합니다).\n",
    "\n",
    "여러 줄을 입력 받으려면 다음과 같이 for 반복문에서 input을 호출한 뒤 append로 각 줄을 추가하면 됩니다\n",
    "(list 안에 문자열을 넣으면 문자열이 문자 리스트로 변환됩니다).\n",
    "\n",
    "matrix = []\n",
    "for i in range(row):\n",
    "    matrix.append(list(input()))\n",
    "\n",
    "입력\n",
    "3 3\n",
    ".**\n",
    "*..\n",
    ".*.\n",
    "결과\n",
    "2**\n",
    "*43\n",
    "2*1\n",
    "\n",
    "입력\n",
    "5 5\n",
    "..*..\n",
    "...*.\n",
    ".*...\n",
    ".***.\n",
    "*.*..\n",
    "결과\n",
    "01*21\n",
    "123*1\n",
    "2*532\n",
    "3***1\n",
    "*4*31\n",
    "\n",
    "</pre>"
   ]
  },
  {
   "cell_type": "code",
   "execution_count": null,
   "metadata": {},
   "outputs": [],
   "source": [
    "# 풀이중 \n",
    "col, row = map(int, input().split())\n",
    "matrix=[]\n",
    "for i in range(row):\n",
    "    matrix.append(list(input()))\n",
    "\n",
    "for i in range(col):\n",
    "for k in range(row):\n",
    "    if matrix [i][k] == '*':\n",
    "        print('*', end='')\n",
    "\n",
    "    else:\n",
    "        count = 0\n",
    "        \n"
   ]
  },
  {
   "cell_type": "code",
   "execution_count": 10,
   "metadata": {},
   "outputs": [
    {
     "name": "stdout",
     "output_type": "stream",
     "text": [
      ". . . . . . . . \n",
      ". . . . . * . * \n",
      ". * * * * . . . \n",
      ". . * . . . . . \n",
      ". * . . . * . . \n",
      ". . . . * . . . \n",
      ". . . * * . . * \n",
      ". * * * . . . * \n"
     ]
    }
   ],
   "source": [
    "# n*n 일 경우 (지뢰 30%, 일반 70%)\n",
    "\n",
    "import random\n",
    "n=8\n",
    "mines = []\n",
    "for i in range(n):\n",
    "    row=[]\n",
    "    for _ in range(n):\n",
    "        if random.random() > 0.7:\n",
    "            row.append('*')\n",
    "        else:\n",
    "            row.append('.')\n",
    "    mines.append(row)\n",
    "\n",
    "for row in mines : \n",
    "    for element in row:\n",
    "        print(element, end=' ')\n",
    "    print()"
   ]
  },
  {
   "cell_type": "code",
   "execution_count": 11,
   "metadata": {},
   "outputs": [],
   "source": [
    "def print_mines(mat):\n",
    "    for row in mat :\n",
    "        for element in row:\n",
    "            print(element, end=' ')\n",
    "        print()"
   ]
  },
  {
   "cell_type": "code",
   "execution_count": 13,
   "metadata": {},
   "outputs": [
    {
     "name": "stdout",
     "output_type": "stream",
     "text": [
      ". . * * . . \n",
      "* . . * . . \n",
      "* . . * . . \n",
      ". * . * . . \n",
      "* . * . . . \n",
      ". . . * * . \n"
     ]
    }
   ],
   "source": [
    "n= int(input())\n",
    "mines = [ ['*' if random.random() > 0.7 else '.' for _ in range(n)] for _ in range(n)]\n",
    "print_mines(mines)"
   ]
  },
  {
   "cell_type": "code",
   "execution_count": 14,
   "metadata": {},
   "outputs": [
    {
     "data": {
      "text/plain": [
       "['.', '.', '.', '.', '.', '.']"
      ]
     },
     "execution_count": 14,
     "metadata": {},
     "output_type": "execute_result"
    }
   ],
   "source": [
    "['.']*6"
   ]
  },
  {
   "cell_type": "code",
   "execution_count": 15,
   "metadata": {},
   "outputs": [
    {
     "name": "stdout",
     "output_type": "stream",
     "text": [
      ". . . . . . . . \n",
      ". . . * * . . . \n",
      ". * . . * . . . \n",
      ". * . . * . . . \n",
      ". . * . * . . . \n",
      ". * . * . . . . \n",
      ". . . . * * . . \n",
      ". . . . . . . . \n"
     ]
    }
   ],
   "source": [
    "pad_mines = []\n",
    "pad_mines.append(['.'] * (n+2))\n",
    "for row in mines:\n",
    "    line = ['.']\n",
    "    line.extend(row)\n",
    "    line.append('.')\n",
    "    pad_mines.append(line)\n",
    "pad_mines.append(['.']*(n+2))\n",
    "print_mines(pad_mines)\n"
   ]
  },
  {
   "cell_type": "code",
   "execution_count": 17,
   "metadata": {},
   "outputs": [
    {
     "name": "stdout",
     "output_type": "stream",
     "text": [
      "0 4 * * 4 0 \n",
      "* 5 3 * 5 0 \n",
      "* 2 5 * 5 0 \n",
      "2 * 3 * 2 0 \n",
      "* 3 * 2 4 3 \n",
      "1 2 2 * * 1 \n"
     ]
    }
   ],
   "source": [
    "final_mines = []\n",
    "for i in range(1,n+1):\n",
    "    row=[]\n",
    "    for k in range(1, n+1):\n",
    "        if pad_mines[i][k] == '*':\n",
    "            row.append('*')\n",
    "        else :\n",
    "            count = (pad_mines[i-1][k-1]=='*') + (pad_mines[i-1][k]=='*') + (pad_mines[i-1][k+1]=='*') + \\\n",
    "                (pad_mines[i][k-1]=='*') + (pad_mines[i][k+1]=='*') + \\\n",
    "                    (pad_mines[i+1][k-1]=='*') + (pad_mines[i+1][k-1]=='*') + (pad_mines[i+1][k-1]=='*')\n",
    "            row.append(str(count))\n",
    "    final_mines.append(row)\n",
    "\n",
    "print_mines(final_mines)"
   ]
  },
  {
   "cell_type": "markdown",
   "metadata": {},
   "source": [
    "### 연습문제\n",
    "\n",
    "<pre>\n",
    "a+b+c = 1000, a < b < c  만족하고,\n",
    "a*a + b*b = c*c를 만족하는 피타고라스 수 a,b,c ?\n",
    "</pre>"
   ]
  },
  {
   "cell_type": "code",
   "execution_count": 18,
   "metadata": {},
   "outputs": [
    {
     "name": "stdout",
     "output_type": "stream",
     "text": [
      "200 375 425\n"
     ]
    }
   ],
   "source": [
    "# 변수는 a, b \n",
    "# c = 1000-a-b\n",
    "\n",
    "for a in range(1,333):          # a는 b보다 작고, 세개 합친 숫자가 1000이하여야 하므로 \n",
    "    for b in range(a+1, 500):   # b는 c보다 작아야 되므로\n",
    "        c = 1000-a-b\n",
    "        if a*a + b*b == c*c:\n",
    "            print(a,b,c)"
   ]
  },
  {
   "cell_type": "code",
   "execution_count": 19,
   "metadata": {},
   "outputs": [
    {
     "name": "stdout",
     "output_type": "stream",
     "text": [
      "200 375 425\n"
     ]
    }
   ],
   "source": [
    "# range 1000으로 해도 상관없음\n",
    "for a in range(1,1000):          \n",
    "    for b in range(a+1, 1000):  \n",
    "        c = 1000-a-b\n",
    "        if a*a + b*b == c*c:\n",
    "            print(a,b,c)"
   ]
  },
  {
   "cell_type": "code",
   "execution_count": null,
   "metadata": {},
   "outputs": [],
   "source": []
  }
 ],
 "metadata": {
  "interpreter": {
   "hash": "6d46af94c2bbce495f1e668725902fa517c90b1782bcfe2fce0dd9868df553d3"
  },
  "kernelspec": {
   "display_name": "Python 3.9.7 ('base')",
   "language": "python",
   "name": "python3"
  },
  "language_info": {
   "codemirror_mode": {
    "name": "ipython",
    "version": 3
   },
   "file_extension": ".py",
   "mimetype": "text/x-python",
   "name": "python",
   "nbconvert_exporter": "python",
   "pygments_lexer": "ipython3",
   "version": "3.9.7"
  },
  "orig_nbformat": 4
 },
 "nbformat": 4,
 "nbformat_minor": 2
}
